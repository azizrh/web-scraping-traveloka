{
 "cells": [
  {
   "cell_type": "code",
   "execution_count": 54,
   "metadata": {},
   "outputs": [],
   "source": [
    "from selenium import webdriver\n",
    "from selenium.webdriver.support.ui import WebDriverWait\n",
    "from selenium.webdriver.common.by import By\n",
    "from selenium.webdriver.support import expected_conditions as EC\n",
    "from selenium.webdriver.support.ui import Select\n",
    "from selenium.common.exceptions import TimeoutException\n",
    "from selenium.webdriver.chrome.service import Service\n",
    "from selenium.webdriver.common.keys import Keys\n",
    "\n",
    "import bs4\n",
    "from bs4 import BeautifulSoup\n",
    "\n",
    "import requests\n",
    "import pandas as pd\n",
    "import time\n"
   ]
  },
  {
   "cell_type": "code",
   "execution_count": 14,
   "metadata": {},
   "outputs": [],
   "source": [
    "#appending data frame to existing excel file\n",
    "def append_df_to_excel(df, excel_path):\n",
    "    df_excel = pd.read_excel(excel_path)\n",
    "    result = pd.concat([df_excel, df], ignore_index=True)\n",
    "    result.to_excel(excel_path, index=False)\n"
   ]
  },
  {
   "cell_type": "code",
   "execution_count": 15,
   "metadata": {},
   "outputs": [],
   "source": [
    "# #reading provinces list\n",
    "# read_province_list = open(\"jawa_bali.txt\",'r')\n",
    "# provinces=[]\n",
    "# # # for _ in range(33): #skipping province\n",
    "# # #     next(read_province_list)\n",
    "# for province in read_province_list:\n",
    "#     provinces.append(province.replace(\"\\n\", \", Indonesia\").strip())\n",
    "\n",
    "# # provinces[33]+=\", Indonesia\"\n",
    "# # provinces = pd.read_excel(r\"Indonesias_Hotel_List.xlsx\",usecols=[2],skiprows=[0]).drop_duplicates().values.tolist()\n",
    "\n",
    "\n",
    "# #provinces=[provinces[44]]\n",
    "# print((provinces))"
   ]
  },
  {
   "cell_type": "code",
   "execution_count": 16,
   "metadata": {},
   "outputs": [
    {
     "name": "stdout",
     "output_type": "stream",
     "text": [
      "JAKARTA SELATAN\n"
     ]
    }
   ],
   "source": [
    "kota = pd.read_csv(r\"Indonesian_Family_Life_Survey_4_Longitude_and_Latitude.csv\", usecols=[5,6]).drop_duplicates()\n",
    "len(kota)\n",
    "for j in range(101,102):\n",
    "    print(kota.iloc[j,1])"
   ]
  },
  {
   "cell_type": "code",
   "execution_count": 58,
   "metadata": {},
   "outputs": [
    {
     "name": "stdout",
     "output_type": "stream",
     "text": [
      "Current province is DKI JAKARTA, JAKARTA SELATAN 101\n"
     ]
    },
    {
     "ename": "TimeoutException",
     "evalue": "Message: \nStacktrace:\nWebDriverError@chrome://remote/content/shared/webdriver/Errors.jsm:183:5\nNoSuchElementError@chrome://remote/content/shared/webdriver/Errors.jsm:395:5\nelement.find/</<@chrome://remote/content/marionette/element.js:300:16\n",
     "output_type": "error",
     "traceback": [
      "\u001b[1;31m---------------------------------------------------------------------------\u001b[0m",
      "\u001b[1;31mTimeoutException\u001b[0m                          Traceback (most recent call last)",
      "\u001b[1;32m~\\AppData\\Local\\Temp/ipykernel_6552/2483751589.py\u001b[0m in \u001b[0;36m<module>\u001b[1;34m\u001b[0m\n\u001b[0;32m     37\u001b[0m \u001b[1;33m\u001b[0m\u001b[0m\n\u001b[0;32m     38\u001b[0m \u001b[1;33m\u001b[0m\u001b[0m\n\u001b[1;32m---> 39\u001b[1;33m     \u001b[0msearch_button\u001b[0m \u001b[1;33m=\u001b[0m \u001b[0mwait\u001b[0m\u001b[1;33m.\u001b[0m\u001b[0muntil\u001b[0m\u001b[1;33m(\u001b[0m\u001b[0mEC\u001b[0m\u001b[1;33m.\u001b[0m\u001b[0melement_to_be_clickable\u001b[0m\u001b[1;33m(\u001b[0m\u001b[1;33m(\u001b[0m\u001b[0mBy\u001b[0m\u001b[1;33m.\u001b[0m\u001b[0mCLASS_NAME\u001b[0m\u001b[1;33m,\u001b[0m \u001b[1;34m\"css-901oao css-bfa6kz r-jwli3a r-1sixt3s r-cygvgh r-b88u0q r-1iukymi r-q4m81j\"\u001b[0m\u001b[1;33m)\u001b[0m\u001b[1;33m)\u001b[0m\u001b[1;33m)\u001b[0m\u001b[1;33m.\u001b[0m\u001b[0msend_keys\u001b[0m\u001b[1;33m(\u001b[0m\u001b[0mKeys\u001b[0m\u001b[1;33m.\u001b[0m\u001b[0mRETURN\u001b[0m\u001b[1;33m)\u001b[0m\u001b[1;33m\u001b[0m\u001b[1;33m\u001b[0m\u001b[0m\n\u001b[0m\u001b[0;32m     40\u001b[0m \u001b[1;33m\u001b[0m\u001b[0m\n\u001b[0;32m     41\u001b[0m     \u001b[1;31m#wait.until(EC.element_to_be_clickable((By.CLASS_NAME, \"css-1dbjc4n r-1e081e0 r-1ux73yq r-tqpus0\"))).click()\u001b[0m\u001b[1;33m\u001b[0m\u001b[1;33m\u001b[0m\u001b[0m\n",
      "\u001b[1;32m~\\Anaconda3\\lib\\site-packages\\selenium\\webdriver\\support\\wait.py\u001b[0m in \u001b[0;36muntil\u001b[1;34m(self, method, message)\u001b[0m\n\u001b[0;32m     87\u001b[0m             \u001b[1;32mif\u001b[0m \u001b[0mtime\u001b[0m\u001b[1;33m.\u001b[0m\u001b[0mtime\u001b[0m\u001b[1;33m(\u001b[0m\u001b[1;33m)\u001b[0m \u001b[1;33m>\u001b[0m \u001b[0mend_time\u001b[0m\u001b[1;33m:\u001b[0m\u001b[1;33m\u001b[0m\u001b[1;33m\u001b[0m\u001b[0m\n\u001b[0;32m     88\u001b[0m                 \u001b[1;32mbreak\u001b[0m\u001b[1;33m\u001b[0m\u001b[1;33m\u001b[0m\u001b[0m\n\u001b[1;32m---> 89\u001b[1;33m         \u001b[1;32mraise\u001b[0m \u001b[0mTimeoutException\u001b[0m\u001b[1;33m(\u001b[0m\u001b[0mmessage\u001b[0m\u001b[1;33m,\u001b[0m \u001b[0mscreen\u001b[0m\u001b[1;33m,\u001b[0m \u001b[0mstacktrace\u001b[0m\u001b[1;33m)\u001b[0m\u001b[1;33m\u001b[0m\u001b[1;33m\u001b[0m\u001b[0m\n\u001b[0m\u001b[0;32m     90\u001b[0m \u001b[1;33m\u001b[0m\u001b[0m\n\u001b[0;32m     91\u001b[0m     \u001b[1;32mdef\u001b[0m \u001b[0muntil_not\u001b[0m\u001b[1;33m(\u001b[0m\u001b[0mself\u001b[0m\u001b[1;33m,\u001b[0m \u001b[0mmethod\u001b[0m\u001b[1;33m,\u001b[0m \u001b[0mmessage\u001b[0m\u001b[1;33m=\u001b[0m\u001b[1;34m''\u001b[0m\u001b[1;33m)\u001b[0m\u001b[1;33m:\u001b[0m\u001b[1;33m\u001b[0m\u001b[1;33m\u001b[0m\u001b[0m\n",
      "\u001b[1;31mTimeoutException\u001b[0m: Message: \nStacktrace:\nWebDriverError@chrome://remote/content/shared/webdriver/Errors.jsm:183:5\nNoSuchElementError@chrome://remote/content/shared/webdriver/Errors.jsm:395:5\nelement.find/</<@chrome://remote/content/marionette/element.js:300:16\n"
     ]
    }
   ],
   "source": [
    "#url link\n",
    "my_url='https://www.traveloka.com/en-id/'\n",
    "\n",
    "\n",
    "#calling web driver from its directory\n",
    "s=Service(r'C:\\Users\\62811\\Downloads\\geckodriver-v0.30.0-win64\\geckodriver.exe') \n",
    "\n",
    "\n",
    "def strip(x):\n",
    "    if x !=None:\n",
    "        return   str(x.text.strip())\n",
    "    else:\n",
    "        return str('')\n",
    "\n"
   ]
  },
  {
   "cell_type": "code",
   "execution_count": 150,
   "metadata": {},
   "outputs": [
    {
     "name": "stdout",
     "output_type": "stream",
     "text": [
      "Clicked on  Next Page »\n",
      "Clicked on  Next Page »\n",
      "Clicked on  Next Page »\n",
      "Clicked on  Next Page »\n",
      "Clicked on  Next Page »\n",
      "Clicked on  Next Page »\n",
      "Clicked on  Next Page »\n",
      "Clicked on  Next Page »\n",
      "Clicked on  Next Page »\n",
      "Clicked on  Next Page »\n",
      "Clicked on  Next Page »\n",
      "Clicked on  Next Page »\n",
      "Clicked on  Next Page »\n",
      "Clicked on  Next Page »\n",
      "Clicked on  Next Page »\n",
      "Clicked on  Next Page »\n",
      "Clicked on  Next Page »\n",
      "Clicked on  Next Page »\n",
      "Clicked on  Next Page »\n",
      "Clicked on  Next Page »\n",
      "Clicked on  Next Page »\n",
      "Clicked on  Next Page »\n",
      "Clicked on  Next Page »\n",
      "Clicked on  Next Page »\n",
      "Clicked on  Next Page »\n",
      "Clicked on  Next Page »\n",
      "Clicked on  Next Page »\n",
      "Clicked on  Next Page »\n",
      "Clicked on  Next Page »\n",
      "Clicked on  Next Page »\n",
      "Clicked on  Next Page »\n",
      "Clicked on  Next Page »\n",
      "Clicked on  Next Page »\n",
      "Clicked on  Next Page »\n",
      "Clicked on  Next Page »\n",
      "Clicked on  Next Page »\n",
      "Clicked on  Next Page »\n",
      "Clicked on  Next Page »\n",
      "Clicked on  Next Page »\n",
      "Clicked on  Next Page »\n",
      "Clicked on  Next Page »\n",
      "Clicked on  Next Page »\n",
      "Clicked on  Next Page »\n",
      "Clicked on  Next Page »\n",
      "Clicked on  Next Page »\n",
      "Clicked on  Next Page »\n",
      "Clicked on  Next Page »\n",
      "Clicked on  Next Page »\n",
      "Clicked on  Next Page »\n",
      "Clicked on  Next Page »\n",
      "Clicked on  Next Page »\n",
      "Clicked on  Next Page »\n",
      "Clicked on  Next Page »\n",
      "Clicked on  Next Page »\n",
      "Clicked on  Next Page »\n",
      "No more Next Page »\n"
     ]
    }
   ],
   "source": [
    "#url link\n",
    "my_url='https://www.traveloka.com/en-id/'\n",
    "\n",
    "\n",
    "#calling web driver from its directory\n",
    "s=Service(r'C:\\Users\\62811\\Downloads\\geckodriver-v0.30.0-win64\\geckodriver.exe') \n",
    "\n",
    "\n",
    "driver = webdriver.Firefox(service=s)\n",
    "wait = WebDriverWait(driver, 30)\n",
    "driver.get(my_url)\n",
    "search_box = wait.until(EC.element_to_be_clickable((By.CSS_SELECTOR, \"input[data-testid='autocomplete-field']\"))).send_keys(\"Jakarta\")\n",
    "\n",
    "wait.until(EC.element_to_be_clickable((By.XPATH, \"//div[@data-testid='autocomplete-item-name' and contains(string(), 'Jakarta')]\"))).click()\n",
    "\n",
    "wait.until(EC.element_to_be_clickable((By.CSS_SELECTOR, \"[data-testid='search-submit-button']\"))).click()\n",
    "\n",
    "\n",
    "\n",
    "x=''\n",
    "while True:\n",
    "    try:\n",
    "        time.sleep(4)\n",
    "        x = x + wait.until(EC.visibility_of_element_located((By.CLASS_NAME, \"_2qd8A\"))).get_attribute('innerHTML') #find_elements_by_class_name(\"_7192d3184\")\n",
    "        WebDriverWait(driver, 10).until(EC.element_to_be_clickable((By.ID,\"next-button\"))).click()\n",
    "        print(\"Clicked on  Next Page »\")\n",
    "    except TimeoutException:\n",
    "        print(\"No more Next Page »\")\n",
    "        break\n",
    "driver.quit()\n",
    "\n",
    "\n",
    "\n",
    "import winsound\n",
    "duration = 1000  # milliseconds\n",
    "freq = 440  # Hz\n",
    "winsound.Beep(freq, duration)\n"
   ]
  },
  {
   "cell_type": "code",
   "execution_count": 151,
   "metadata": {},
   "outputs": [
    {
     "data": {
      "text/plain": [
       "1854"
      ]
     },
     "execution_count": 151,
     "metadata": {},
     "output_type": "execute_result"
    }
   ],
   "source": [
    "# card=BeautifulSoup(x, 'html.parser').find_all(True,{'class':'ztzlF _2nyWi'})\n",
    "# len(card)\n",
    "\n",
    "#card sudah di simpan di C:\\Users\\62811\\Documents\\Web Scraping Project (traveloka.com)"
   ]
  },
  {
   "cell_type": "code",
   "execution_count": 169,
   "metadata": {},
   "outputs": [
    {
     "data": {
      "text/html": [
       "<div>\n",
       "<style scoped>\n",
       "    .dataframe tbody tr th:only-of-type {\n",
       "        vertical-align: middle;\n",
       "    }\n",
       "\n",
       "    .dataframe tbody tr th {\n",
       "        vertical-align: top;\n",
       "    }\n",
       "\n",
       "    .dataframe thead th {\n",
       "        text-align: right;\n",
       "    }\n",
       "</style>\n",
       "<table border=\"1\" class=\"dataframe\">\n",
       "  <thead>\n",
       "    <tr style=\"text-align: right;\">\n",
       "      <th></th>\n",
       "      <th>name</th>\n",
       "      <th>loc</th>\n",
       "      <th>rating</th>\n",
       "      <th>rating_label</th>\n",
       "      <th>number_of_reviews</th>\n",
       "      <th>price</th>\n",
       "    </tr>\n",
       "  </thead>\n",
       "  <tbody>\n",
       "    <tr>\n",
       "      <th>0</th>\n",
       "      <td>The Langham, Jakarta</td>\n",
       "      <td>Senayan, Jakarta</td>\n",
       "      <td>8.8</td>\n",
       "      <td>[Impressive, -, 8.8(192)]</td>\n",
       "      <td>(192)</td>\n",
       "      <td>Rp 3.630.000</td>\n",
       "    </tr>\n",
       "    <tr>\n",
       "      <th>1</th>\n",
       "      <td>Hotel Indonesia Kempinski Jakarta</td>\n",
       "      <td>Thamrin, Jakarta</td>\n",
       "      <td>8.9</td>\n",
       "      <td>[Impressive, -, 8.9(4284)]</td>\n",
       "      <td>(4284)</td>\n",
       "      <td>Rp 3.424.300</td>\n",
       "    </tr>\n",
       "    <tr>\n",
       "      <th>2</th>\n",
       "      <td>Hotel Mulia Senayan, Jakarta</td>\n",
       "      <td>Senayan, Jakarta</td>\n",
       "      <td>8.7</td>\n",
       "      <td>[Impressive, -, 8.7(1372)]</td>\n",
       "      <td>(1372)</td>\n",
       "      <td>Rp 2.056.999</td>\n",
       "    </tr>\n",
       "    <tr>\n",
       "      <th>3</th>\n",
       "      <td>MAY Property Apartment Kalibata City Tower Gah...</td>\n",
       "      <td>Pancoran, Jakarta</td>\n",
       "      <td>6.9</td>\n",
       "      <td>[Good, -, 6.9(11)]</td>\n",
       "      <td>(11)</td>\n",
       "      <td>Rp 350.000</td>\n",
       "    </tr>\n",
       "    <tr>\n",
       "      <th>4</th>\n",
       "      <td>Leisure Inn Arion Hotel</td>\n",
       "      <td>Rawamangun, Jakarta</td>\n",
       "      <td>8.2</td>\n",
       "      <td>[Convenient, -, 8.2(612)]</td>\n",
       "      <td>(612)</td>\n",
       "      <td>Rp 365.060</td>\n",
       "    </tr>\n",
       "    <tr>\n",
       "      <th>...</th>\n",
       "      <td>...</td>\n",
       "      <td>...</td>\n",
       "      <td>...</td>\n",
       "      <td>...</td>\n",
       "      <td>...</td>\n",
       "      <td>...</td>\n",
       "    </tr>\n",
       "    <tr>\n",
       "      <th>1849</th>\n",
       "      <td>Single Room in Mangga Besar (CER)</td>\n",
       "      <td>Mangga Besar, Jakarta</td>\n",
       "      <td>6.6</td>\n",
       "      <td>[Good, -, 6.6(20)]</td>\n",
       "      <td>(20)</td>\n",
       "      <td>Rp 180.000</td>\n",
       "    </tr>\n",
       "    <tr>\n",
       "      <th>1850</th>\n",
       "      <td>2BR Grand Palace Apartment Kemayoran near to J...</td>\n",
       "      <td>Kemayoran, Jakarta</td>\n",
       "      <td>7.7</td>\n",
       "      <td>[Convenient, -, 7.7(6)]</td>\n",
       "      <td>(6)</td>\n",
       "      <td>Rp 1.215.278</td>\n",
       "    </tr>\n",
       "    <tr>\n",
       "      <th>1851</th>\n",
       "      <td>Hotel Permai</td>\n",
       "      <td>Mangga Besar, Jakarta</td>\n",
       "      <td>7.7</td>\n",
       "      <td>[Convenient, -, 7.7(396)]</td>\n",
       "      <td>(396)</td>\n",
       "      <td>Rp 225.000</td>\n",
       "    </tr>\n",
       "    <tr>\n",
       "      <th>1852</th>\n",
       "      <td>Harapan Solata Homestay</td>\n",
       "      <td>Kelapa Island, Jakarta</td>\n",
       "      <td>7.5</td>\n",
       "      <td>[Convenient, -, 7.5(12)]</td>\n",
       "      <td>(12)</td>\n",
       "      <td>Rp 499.999</td>\n",
       "    </tr>\n",
       "    <tr>\n",
       "      <th>1853</th>\n",
       "      <td>Hajjah Ririn Kebagusan City</td>\n",
       "      <td>West Tanjung, Jakarta</td>\n",
       "      <td>7.0</td>\n",
       "      <td>[Good, -, 7.0(54)]</td>\n",
       "      <td>(54)</td>\n",
       "      <td>Rp 468.001</td>\n",
       "    </tr>\n",
       "  </tbody>\n",
       "</table>\n",
       "<p>1854 rows × 6 columns</p>\n",
       "</div>"
      ],
      "text/plain": [
       "                                                   name  \\\n",
       "0                                  The Langham, Jakarta   \n",
       "1                     Hotel Indonesia Kempinski Jakarta   \n",
       "2                          Hotel Mulia Senayan, Jakarta   \n",
       "3     MAY Property Apartment Kalibata City Tower Gah...   \n",
       "4                               Leisure Inn Arion Hotel   \n",
       "...                                                 ...   \n",
       "1849                  Single Room in Mangga Besar (CER)   \n",
       "1850  2BR Grand Palace Apartment Kemayoran near to J...   \n",
       "1851                                       Hotel Permai   \n",
       "1852                            Harapan Solata Homestay   \n",
       "1853                        Hajjah Ririn Kebagusan City   \n",
       "\n",
       "                         loc rating                rating_label  \\\n",
       "0           Senayan, Jakarta    8.8   [Impressive, -, 8.8(192)]   \n",
       "1           Thamrin, Jakarta    8.9  [Impressive, -, 8.9(4284)]   \n",
       "2           Senayan, Jakarta    8.7  [Impressive, -, 8.7(1372)]   \n",
       "3          Pancoran, Jakarta    6.9          [Good, -, 6.9(11)]   \n",
       "4        Rawamangun, Jakarta    8.2   [Convenient, -, 8.2(612)]   \n",
       "...                      ...    ...                         ...   \n",
       "1849   Mangga Besar, Jakarta    6.6          [Good, -, 6.6(20)]   \n",
       "1850      Kemayoran, Jakarta    7.7     [Convenient, -, 7.7(6)]   \n",
       "1851   Mangga Besar, Jakarta    7.7   [Convenient, -, 7.7(396)]   \n",
       "1852  Kelapa Island, Jakarta    7.5    [Convenient, -, 7.5(12)]   \n",
       "1853   West Tanjung, Jakarta    7.0          [Good, -, 7.0(54)]   \n",
       "\n",
       "     number_of_reviews         price  \n",
       "0                (192)  Rp 3.630.000  \n",
       "1               (4284)  Rp 3.424.300  \n",
       "2               (1372)  Rp 2.056.999  \n",
       "3                 (11)    Rp 350.000  \n",
       "4                (612)    Rp 365.060  \n",
       "...                ...           ...  \n",
       "1849              (20)    Rp 180.000  \n",
       "1850               (6)  Rp 1.215.278  \n",
       "1851             (396)    Rp 225.000  \n",
       "1852              (12)    Rp 499.999  \n",
       "1853              (54)    Rp 468.001  \n",
       "\n",
       "[1854 rows x 6 columns]"
      ]
     },
     "execution_count": 169,
     "metadata": {},
     "output_type": "execute_result"
    }
   ],
   "source": [
    "i=0\n",
    "list = [ ]\n",
    "for item in card:\n",
    "    name = strip(item.find(True, {'class':'_1z5je _10ZQX tvat-hotelName'}))\n",
    "    \n",
    "    loc = strip(item.find(True,{'class':'_3tICV'}))\n",
    "    \n",
    "    rating = strip(item.find(True,{'class':'tvat-ratingScore'}))\n",
    "    \n",
    "    rating_label = strip(item.find(True,{'class':'_16hDy'})).split()\n",
    "    \n",
    "    number_of_reviews = strip(item.find(True,{'class':'_30os4'}))\n",
    "    \n",
    "    price = strip(item.find(True,{'class':'_22n9I tvat-primaryPrice'}))\n",
    "    \n",
    "    # bed = strip(item.find(True,{'class':'_2075f7b46'}))\n",
    "    \n",
    "    # price_for= strip(item.find(True,{'class':'_4abc4c3d5 _7ee1c7d14'}))\n",
    "\n",
    "    # stars = item.find(True,{'class':'_bebcf8d60'})\n",
    "\n",
    "    # city = kota.iloc[j,1]\n",
    "\n",
    "    # province_name = kota.iloc[j,0]\n",
    "\n",
    "    # if stars is None:\n",
    "    #     stars_count = '0'\n",
    "    # else:\n",
    "    #     stars_count = len(stars)\n",
    "\n",
    "    # href_tag= item.find('a', href=True)['href']\n",
    "\n",
    "    list_in_list = [name,loc,rating,rating_label,number_of_reviews,price]#,bed,price_for,stars_count,city,href_tag]\n",
    "    \n",
    "    list.append(list_in_list)\n",
    "    #print(list_in_list)\n",
    "    i=i+1\n",
    "df = pd.DataFrame(list,columns= ['name','loc','rating','rating_label','number_of_reviews','price'])\n",
    "df"
   ]
  },
  {
   "cell_type": "code",
   "execution_count": 166,
   "metadata": {},
   "outputs": [
    {
     "ename": "AttributeError",
     "evalue": "ResultSet object has no attribute 'find'. You're probably treating a list of elements like a single element. Did you call find_all() when you meant to call find()?",
     "output_type": "error",
     "traceback": [
      "\u001b[1;31m---------------------------------------------------------------------------\u001b[0m",
      "\u001b[1;31mAttributeError\u001b[0m                            Traceback (most recent call last)",
      "\u001b[1;32m~\\AppData\\Local\\Temp/ipykernel_6552/667435876.py\u001b[0m in \u001b[0;36m<module>\u001b[1;34m\u001b[0m\n\u001b[1;32m----> 1\u001b[1;33m \u001b[0mstrip\u001b[0m\u001b[1;33m(\u001b[0m\u001b[0mcard\u001b[0m\u001b[1;33m.\u001b[0m\u001b[0mfind\u001b[0m\u001b[1;33m(\u001b[0m\u001b[1;32mTrue\u001b[0m\u001b[1;33m,\u001b[0m\u001b[1;33m{\u001b[0m\u001b[1;34m'class'\u001b[0m\u001b[1;33m:\u001b[0m\u001b[1;34m'_16hDy'\u001b[0m\u001b[1;33m}\u001b[0m\u001b[1;33m)\u001b[0m\u001b[1;33m)\u001b[0m\u001b[1;33m.\u001b[0m\u001b[0msplit\u001b[0m\u001b[1;33m(\u001b[0m\u001b[1;33m)\u001b[0m\u001b[1;33m\u001b[0m\u001b[1;33m\u001b[0m\u001b[0m\n\u001b[0m",
      "\u001b[1;32m~\\Anaconda3\\lib\\site-packages\\bs4\\element.py\u001b[0m in \u001b[0;36m__getattr__\u001b[1;34m(self, key)\u001b[0m\n\u001b[0;32m   2251\u001b[0m     \u001b[1;32mdef\u001b[0m \u001b[0m__getattr__\u001b[0m\u001b[1;33m(\u001b[0m\u001b[0mself\u001b[0m\u001b[1;33m,\u001b[0m \u001b[0mkey\u001b[0m\u001b[1;33m)\u001b[0m\u001b[1;33m:\u001b[0m\u001b[1;33m\u001b[0m\u001b[1;33m\u001b[0m\u001b[0m\n\u001b[0;32m   2252\u001b[0m         \u001b[1;34m\"\"\"Raise a helpful exception to explain a common code fix.\"\"\"\u001b[0m\u001b[1;33m\u001b[0m\u001b[1;33m\u001b[0m\u001b[0m\n\u001b[1;32m-> 2253\u001b[1;33m         raise AttributeError(\n\u001b[0m\u001b[0;32m   2254\u001b[0m             \u001b[1;34m\"ResultSet object has no attribute '%s'. You're probably treating a list of elements like a single element. Did you call find_all() when you meant to call find()?\"\u001b[0m \u001b[1;33m%\u001b[0m \u001b[0mkey\u001b[0m\u001b[1;33m\u001b[0m\u001b[1;33m\u001b[0m\u001b[0m\n\u001b[0;32m   2255\u001b[0m         )\n",
      "\u001b[1;31mAttributeError\u001b[0m: ResultSet object has no attribute 'find'. You're probably treating a list of elements like a single element. Did you call find_all() when you meant to call find()?"
     ]
    }
   ],
   "source": []
  },
  {
   "cell_type": "code",
   "execution_count": 127,
   "metadata": {},
   "outputs": [],
   "source": [
    "f = open(\"card.html\", \"a\")\n",
    "f.write(str(card))\n",
    "f.close()"
   ]
  },
  {
   "cell_type": "code",
   "execution_count": 10,
   "metadata": {},
   "outputs": [
    {
     "name": "stdout",
     "output_type": "stream",
     "text": [
      "[<div class=\"css-1dbjc4n r-1awozwy r-18u37iz r-1777fci r-edyy15\"><div class=\"css-1dbjc4n r-kdyh1x r-1p0dtai r-1d2f490 r-u8s1d r-zchlnj r-ipm5af r-14qw7yl r-1wyyakw\" style=\"background-color:rgba(255,255,255,1.00);border-top-color:rgba(205,208,209,1.00);border-right-color:rgba(205,208,209,1.00);border-bottom-color:rgba(205,208,209,1.00);border-left-color:rgba(205,208,209,1.00);border-top-width:1px;border-right-width:1px;border-bottom-width:1px;border-left-width:1px;height:calc(100% - 2);-webkit-transition-delay:0ms;transition-delay:0ms;-webkit-transition-property:width, height, border-color, border-width, background-color;transition-property:width, height, border-color, border-width, background-color;-webkit-transition-timing-function:ease;transition-timing-function:ease;width:calc(100% - 2);will-change:width, height, border-color, border-width, background-color;-moz-transition-property:width, height, border-color, border-width, background-color\"></div><div class=\"css-1dbjc4n r-1kb76zh\"><img height=\"24\" src=\"https://d1785e74lyxkqq.cloudfront.net/_next/static/v2/0/06c6fdcf3e33d2950e2743ea8c3d2208.svg\" width=\"24\"/></div><input aria-invalid=\"false\" autocapitalize=\"sentences\" autocomplete=\"on\" autocorrect=\"on\" class=\"css-11aywtz r-13awgt0 r-1sixt3s r-ubezar r-135wba7 r-bcqeeo r-1ny4l3l r-10paoce r-13n6l4s\" data-testid=\"autocomplete-field\" dir=\"auto\" placeholder=\"City, hotel, place to go\" spellcheck=\"true\" style=\"color:rgba(3,18,26,1.00)\" type=\"text\"/></div>, <div class=\"css-1dbjc4n r-1awozwy r-18u37iz r-1777fci r-edyy15\"><div class=\"css-1dbjc4n r-kdyh1x r-1p0dtai r-1d2f490 r-u8s1d r-zchlnj r-ipm5af r-14qw7yl r-1wyyakw\" style=\"background-color:rgba(255,255,255,1.00);border-top-color:rgba(205,208,209,1.00);border-right-color:rgba(205,208,209,1.00);border-bottom-color:rgba(205,208,209,1.00);border-left-color:rgba(205,208,209,1.00);border-top-width:1px;border-right-width:1px;border-bottom-width:1px;border-left-width:1px;height:calc(100% - 2);-webkit-transition-delay:0ms;transition-delay:0ms;-webkit-transition-property:width, height, border-color, border-width, background-color;transition-property:width, height, border-color, border-width, background-color;-webkit-transition-timing-function:ease;transition-timing-function:ease;width:calc(100% - 2);will-change:width, height, border-color, border-width, background-color;-moz-transition-property:width, height, border-color, border-width, background-color\"></div><div class=\"css-1dbjc4n r-1kb76zh\"><svg data-id=\"IcSystemCalendar\" fill=\"none\" height=\"24\" viewbox=\"0 0 24 24\" width=\"24\" xmlns=\"http://www.w3.org/2000/svg\"><path d=\"M7 2V5M17 2V5M3 8H21M11.5 11.5H12.5V12.5H11.5V11.5ZM11.5 16.5H12.5V17.5H11.5V16.5ZM16.5 11.5H17.5V12.5H16.5V11.5ZM6.5 16.5H7.5V17.5H6.5V16.5ZM5 21H19C20.1046 21 21 20.1046 21 19V6C21 4.89543 20.1046 4 19 4H5C3.89543 4 3 4.89543 3 6V19C3 20.1046 3.89543 21 5 21Z\" stroke=\"#687176\" stroke-linecap=\"round\" stroke-linejoin=\"round\" stroke-width=\"2\"></path><path clip-rule=\"evenodd\" d=\"M7.5 11.5V12.5H6.5V11.5H7.5Z\" fill-rule=\"evenodd\" stroke=\"#0194F3\" stroke-linecap=\"round\" stroke-linejoin=\"round\" stroke-width=\"2\"></path></svg></div><input aria-invalid=\"false\" autocapitalize=\"sentences\" autocomplete=\"on\" autocorrect=\"on\" class=\"css-11aywtz r-13awgt0 r-1sixt3s r-ubezar r-135wba7 r-bcqeeo r-1ny4l3l r-10paoce r-13n6l4s\" data-testid=\"check-in-date-field\" dir=\"auto\" spellcheck=\"true\" style=\"color:rgba(3,18,26,1.00)\" type=\"text\" value=\"Tue, 29 Mar 2022\"/></div>]\n"
     ]
    }
   ],
   "source": [
    "r = requests.get(\"https://www.traveloka.com/en-id/\")\n",
    "\n",
    "page = BeautifulSoup(r.text,'html.parser')\n",
    "\n",
    "driver.find_elements(by=By.CLASS_NAME, value=\"_7192d3184\")\n",
    "\n",
    "review = [x for x in page.find_all(True, {'class':'css-1dbjc4n r-1awozwy r-18u37iz r-1777fci r-edyy15'})]\n",
    "print(review)"
   ]
  },
  {
   "cell_type": "code",
   "execution_count": 8,
   "metadata": {},
   "outputs": [
    {
     "data": {
      "text/plain": [
       "2"
      ]
     },
     "execution_count": 8,
     "metadata": {},
     "output_type": "execute_result"
    }
   ],
   "source": [
    "len(review)"
   ]
  },
  {
   "cell_type": "code",
   "execution_count": null,
   "metadata": {},
   "outputs": [],
   "source": []
  }
 ],
 "metadata": {
  "interpreter": {
   "hash": "13f7bc5c65291c10c727b8dd2a78a10da54632b5572555f410070fda4a155e63"
  },
  "kernelspec": {
   "display_name": "Python 3.9.7 ('base')",
   "language": "python",
   "name": "python3"
  },
  "language_info": {
   "codemirror_mode": {
    "name": "ipython",
    "version": 3
   },
   "file_extension": ".py",
   "mimetype": "text/x-python",
   "name": "python",
   "nbconvert_exporter": "python",
   "pygments_lexer": "ipython3",
   "version": "3.9.7"
  },
  "orig_nbformat": 4
 },
 "nbformat": 4,
 "nbformat_minor": 2
}
