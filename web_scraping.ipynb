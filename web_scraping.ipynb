{
 "cells": [
  {
   "cell_type": "code",
   "execution_count": 9,
   "metadata": {},
   "outputs": [],
   "source": [
    "from selenium import webdriver\n",
    "from selenium.webdriver.support.ui import WebDriverWait\n",
    "from selenium.webdriver.common.by import By\n",
    "from selenium.webdriver.support import expected_conditions as EC\n",
    "from selenium.common.exceptions import TimeoutException\n",
    "from selenium.webdriver.chrome.service import Service\n",
    "\n",
    "from bs4 import BeautifulSoup\n",
    "import pandas as pd\n",
    "import time\n",
    "import numpy as np\n"
   ]
  },
  {
   "cell_type": "code",
   "execution_count": 10,
   "metadata": {},
   "outputs": [],
   "source": [
    "def append_df_to_excel(df, excel_path):\n",
    "    df_excel = pd.read_excel(excel_path)\n",
    "    result = pd.concat([df_excel, df], ignore_index=True)\n",
    "    result.to_excel(excel_path, index=False)\n",
    "\n",
    "def strip(x):\n",
    "    if x !=None:\n",
    "        return   str(x.text.strip())\n",
    "    else:\n",
    "        return str('')"
   ]
  },
  {
   "cell_type": "code",
   "execution_count": 15,
   "metadata": {},
   "outputs": [
    {
     "name": "stdout",
     "output_type": "stream",
     "text": [
      "534    JAKARTA SELATAN\n",
      "544      JAKARTA TIMUR\n",
      "554      JAKARTA PUSAT\n",
      "562      JAKARTA BARAT\n",
      "570      JAKARTA UTARA\n",
      "576              BOGOR\n",
      "615           SUKABUMI\n",
      "660            CIANJUR\n",
      "690            BANDUNG\n",
      "Name: kabupaten_name, dtype: object\n"
     ]
    }
   ],
   "source": [
    "empty_list=[]\n",
    "a = pd.DataFrame(empty_list,columns= ['name','loc','rating','rating_label','number_of_reviews','price','type','stars_count'])\n",
    "\n",
    "kota = pd.read_csv(r\"Indonesian_Family_Life_Survey_4_Longitude_and_Latitude.csv\", usecols=[5,6]).drop_duplicates()\n",
    "\n",
    "cities=kota.iloc[:,1].values.tolist()\n",
    "\n",
    "print(kota.iloc[101:110,1])\n"
   ]
  },
  {
   "cell_type": "code",
   "execution_count": 14,
   "metadata": {},
   "outputs": [
    {
     "name": "stdout",
     "output_type": "stream",
     "text": [
      "current city is Jaksel 101\n"
     ]
    },
    {
     "ename": "KeyboardInterrupt",
     "evalue": "",
     "output_type": "error",
     "traceback": [
      "\u001b[1;31m---------------------------------------------------------------------------\u001b[0m",
      "\u001b[1;31mKeyboardInterrupt\u001b[0m                         Traceback (most recent call last)",
      "\u001b[1;32m~\\AppData\\Local\\Temp/ipykernel_89792/777379601.py\u001b[0m in \u001b[0;36m<module>\u001b[1;34m\u001b[0m\n\u001b[0;32m     26\u001b[0m         \u001b[1;32mwhile\u001b[0m \u001b[1;32mTrue\u001b[0m\u001b[1;33m:\u001b[0m\u001b[1;33m\u001b[0m\u001b[1;33m\u001b[0m\u001b[0m\n\u001b[0;32m     27\u001b[0m             \u001b[1;32mtry\u001b[0m\u001b[1;33m:\u001b[0m\u001b[1;33m\u001b[0m\u001b[1;33m\u001b[0m\u001b[0m\n\u001b[1;32m---> 28\u001b[1;33m                 \u001b[0mtime\u001b[0m\u001b[1;33m.\u001b[0m\u001b[0msleep\u001b[0m\u001b[1;33m(\u001b[0m\u001b[1;36m4\u001b[0m\u001b[1;33m)\u001b[0m\u001b[1;33m\u001b[0m\u001b[1;33m\u001b[0m\u001b[0m\n\u001b[0m\u001b[0;32m     29\u001b[0m                 \u001b[0mx\u001b[0m \u001b[1;33m=\u001b[0m \u001b[0mx\u001b[0m \u001b[1;33m+\u001b[0m \u001b[0mwait\u001b[0m\u001b[1;33m.\u001b[0m\u001b[0muntil\u001b[0m\u001b[1;33m(\u001b[0m\u001b[0mEC\u001b[0m\u001b[1;33m.\u001b[0m\u001b[0mvisibility_of_element_located\u001b[0m\u001b[1;33m(\u001b[0m\u001b[1;33m(\u001b[0m\u001b[0mBy\u001b[0m\u001b[1;33m.\u001b[0m\u001b[0mCLASS_NAME\u001b[0m\u001b[1;33m,\u001b[0m \u001b[1;34m\"_2qd8A\"\u001b[0m\u001b[1;33m)\u001b[0m\u001b[1;33m)\u001b[0m\u001b[1;33m)\u001b[0m\u001b[1;33m.\u001b[0m\u001b[0mget_attribute\u001b[0m\u001b[1;33m(\u001b[0m\u001b[1;34m'innerHTML'\u001b[0m\u001b[1;33m)\u001b[0m \u001b[1;31m#find_elements_by_class_name(\"_7192d3184\")\u001b[0m\u001b[1;33m\u001b[0m\u001b[1;33m\u001b[0m\u001b[0m\n\u001b[0;32m     30\u001b[0m                 \u001b[0mWebDriverWait\u001b[0m\u001b[1;33m(\u001b[0m\u001b[0mdriver\u001b[0m\u001b[1;33m,\u001b[0m \u001b[1;36m10\u001b[0m\u001b[1;33m)\u001b[0m\u001b[1;33m.\u001b[0m\u001b[0muntil\u001b[0m\u001b[1;33m(\u001b[0m\u001b[0mEC\u001b[0m\u001b[1;33m.\u001b[0m\u001b[0melement_to_be_clickable\u001b[0m\u001b[1;33m(\u001b[0m\u001b[1;33m(\u001b[0m\u001b[0mBy\u001b[0m\u001b[1;33m.\u001b[0m\u001b[0mID\u001b[0m\u001b[1;33m,\u001b[0m\u001b[1;34m\"next-button\"\u001b[0m\u001b[1;33m)\u001b[0m\u001b[1;33m)\u001b[0m\u001b[1;33m)\u001b[0m\u001b[1;33m.\u001b[0m\u001b[0mclick\u001b[0m\u001b[1;33m(\u001b[0m\u001b[1;33m)\u001b[0m\u001b[1;33m\u001b[0m\u001b[1;33m\u001b[0m\u001b[0m\n",
      "\u001b[1;31mKeyboardInterrupt\u001b[0m: "
     ]
    }
   ],
   "source": [
    "#url link\n",
    "my_url='https://www.traveloka.com/en-id/'\n",
    "\n",
    "\n",
    "#calling web driver from its directory\n",
    "s=Service(r'C:\\Users\\62811\\Downloads\\geckodriver-v0.30.0-win64\\geckodriver.exe') \n",
    "\n",
    "\n",
    "\n",
    "for j in range(len(kota)):#101,110):#\n",
    "    try:\n",
    "        print(\"current city is\", kota.iloc[j,1],j)\n",
    "        driver = webdriver.Firefox(service=s)\n",
    "        wait = WebDriverWait(driver, 20)\n",
    "        driver.get(my_url)\n",
    "        search_box = wait.until(EC.element_to_be_clickable((By.CSS_SELECTOR, \"input[data-testid='autocomplete-field']\"))).send_keys(kota.iloc[j,1])\n",
    "        time.sleep(3)\n",
    "        #(wait.until(EC.element_to_be_clickable((By.XPATH, \"//div[@data-testid='autocomplete-item-name' and *contains(string(), %s)]\"%city)))).click()\n",
    "        auto_complete = wait.until(EC.element_to_be_clickable((By.XPATH, \"//div[@data-testid='autocomplete-item-name'][1]\")))\n",
    "\n",
    "        auto_complete.click()\n",
    "        wait.until(EC.element_to_be_clickable((By.CSS_SELECTOR, \"[data-testid='search-submit-button']\"))).click()\n",
    "\n",
    "\n",
    "        x=''\n",
    "        while True:\n",
    "            try:\n",
    "                time.sleep(4)\n",
    "                x = x + wait.until(EC.visibility_of_element_located((By.CLASS_NAME, \"_2qd8A\"))).get_attribute('innerHTML') #find_elements_by_class_name(\"_7192d3184\")\n",
    "                WebDriverWait(driver, 10).until(EC.element_to_be_clickable((By.ID,\"next-button\"))).click()\n",
    "                print(\"Clicked on  Next Page »\")\n",
    "            except TimeoutException:\n",
    "                print(\"No more Next Page »\")\n",
    "                break\n",
    "        driver.quit()\n",
    "    except TimeoutException:\n",
    "        driver.quit()\n",
    "        print(\"The city:\",kota.iloc[j,1],\"isn't available\")\n",
    "        continue\n",
    "\n",
    "    card=BeautifulSoup(x, 'html.parser').find_all(True,{'class':'ztzlF _2nyWi'})\n",
    "\n",
    "    i=0\n",
    "    list = [ ]\n",
    "    for item in card:\n",
    "\n",
    "        name = strip(item.find(True, {'class':'_1z5je _10ZQX tvat-hotelName'}))\n",
    "        \n",
    "        loc = strip(item.find(True,{'class':'_3tICV'}))\n",
    "        \n",
    "        rating = strip(item.find(True,{'class':'tvat-ratingScore'}))\n",
    "\n",
    "        rating_label_ = ''\n",
    "        rating_label_ = strip(item.find(True,{'class':'_16hDy'})).split()\n",
    "\n",
    "        if rating_label_ == []:\n",
    "            rating_label = ''\n",
    "        else:\n",
    "            rating_label = rating_label_[0]\n",
    "        # except:\n",
    "        #     rating_label = ''\n",
    "\n",
    "        number_of_reviews = ''\n",
    "        number_of_reviews = strip(item.find(True,{'class':'_30os4'}))[1:-1]\n",
    "\n",
    "\n",
    "\n",
    "        price = strip(item.find(True,{'class':'_22n9I tvat-primaryPrice'}))[3:]\n",
    "        \n",
    "        type = strip(item.find(True,{'class':'_3ohst Jewfo _2Vswb'}))\n",
    "        \n",
    "        # price_for= strip(item.find(True,{'class':'_4abc4c3d5 _7ee1c7d14'}))\n",
    "\n",
    "        stars = item.find(True,{'class':'_1RoiH _1dIAz tvat-starRating _1Fq-V'})\n",
    "\n",
    "        # city = kota.iloc[j,1]\n",
    "\n",
    "        # province_name = kota.iloc[j,0]\n",
    "\n",
    "        if stars == None:\n",
    "            stars_count = ''\n",
    "        elif len(stars) == 1:\n",
    "            stars_count = ''\n",
    "        else:\n",
    "            stars_count=str(len(stars)-1)\n",
    "\n",
    "        # href_tag= item.find('a', href=True)['href']\n",
    "\n",
    "        list_in_list = [name,loc,rating,rating_label,number_of_reviews,price,type,stars_count]#,bed,price_for,stars_count,city,href_tag]\n",
    "        \n",
    "        list.append(list_in_list)\n",
    "        #print(list_in_list)\n",
    "        i=i+1\n",
    "    df = pd.DataFrame(list,columns= ['name','loc','rating','rating_label','number_of_reviews','price','type','stars_count'])\n",
    "    df.replace('', np.nan, inplace=True)\n",
    "    df.dropna(axis=0,how='all')\n",
    "\n",
    "    #append_df_to_excel(df, r\"test_web_scraping_py 1.xlsx\")\n",
    "\n",
    "    import winsound\n",
    "    duration = 1000  # milliseconds\n",
    "    freq = 300  # Hz\n",
    "    winsound.Beep(freq, duration)"
   ]
  },
  {
   "cell_type": "code",
   "execution_count": null,
   "metadata": {},
   "outputs": [],
   "source": []
  },
  {
   "cell_type": "code",
   "execution_count": null,
   "metadata": {},
   "outputs": [],
   "source": []
  },
  {
   "cell_type": "code",
   "execution_count": null,
   "metadata": {},
   "outputs": [],
   "source": []
  },
  {
   "cell_type": "code",
   "execution_count": null,
   "metadata": {},
   "outputs": [],
   "source": []
  }
 ],
 "metadata": {
  "interpreter": {
   "hash": "13f7bc5c65291c10c727b8dd2a78a10da54632b5572555f410070fda4a155e63"
  },
  "kernelspec": {
   "display_name": "Python 3.9.7 ('base')",
   "language": "python",
   "name": "python3"
  },
  "language_info": {
   "codemirror_mode": {
    "name": "ipython",
    "version": 3
   },
   "file_extension": ".py",
   "mimetype": "text/x-python",
   "name": "python",
   "nbconvert_exporter": "python",
   "pygments_lexer": "ipython3",
   "version": "3.9.7"
  },
  "orig_nbformat": 4
 },
 "nbformat": 4,
 "nbformat_minor": 2
}
